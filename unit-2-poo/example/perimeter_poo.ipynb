{
 "cells": [
  {
   "cell_type": "code",
   "execution_count": 3,
   "metadata": {},
   "outputs": [],
   "source": [
    "from math import hypot\n",
    "from typing import Tuple, List, Optional, Iterable"
   ]
  },
  {
   "cell_type": "code",
   "execution_count": 2,
   "metadata": {},
   "outputs": [],
   "source": [
    "class Point:\n",
    "    def __init__(self, x : float, y : float) -> None:\n",
    "        self.x = x\n",
    "        self.y = y\n",
    "    \n",
    "    def distance(self, other : \"Point\") -> float:\n",
    "        return hypot(self.x - other.x, self.y - other.y)"
   ]
  },
  {
   "cell_type": "code",
   "execution_count": 4,
   "metadata": {},
   "outputs": [],
   "source": [
    "class Polygon:\n",
    "    def __init__(self) -> None:\n",
    "        self.vertices : List[Point] = []\n",
    "\n",
    "    def add_point(self, point : Point) -> None:\n",
    "        self.vertices.append(point)\n",
    "\n",
    "    def perimeter(self) -> float:\n",
    "        pairs = zip(self.vertices, self.vertices[1:] + self.vertices[0:1])\n",
    "        return sum(p1.distance(p2) for p1, p2 in pairs)"
   ]
  },
  {
   "cell_type": "code",
   "execution_count": 5,
   "metadata": {},
   "outputs": [],
   "source": [
    "square = Polygon()\n",
    "square.add_point(Point(1 , 1))\n",
    "square.add_point(Point(1 , 2))\n",
    "square.add_point(Point(2 , 2))\n",
    "square.add_point(Point(2 , 1))"
   ]
  },
  {
   "cell_type": "code",
   "execution_count": 6,
   "metadata": {},
   "outputs": [
    {
     "data": {
      "text/plain": [
       "4.0"
      ]
     },
     "execution_count": 6,
     "metadata": {},
     "output_type": "execute_result"
    }
   ],
   "source": [
    "square.perimeter()"
   ]
  }
 ],
 "metadata": {
  "kernelspec": {
   "display_name": "base",
   "language": "python",
   "name": "python3"
  },
  "language_info": {
   "codemirror_mode": {
    "name": "ipython",
    "version": 3
   },
   "file_extension": ".py",
   "mimetype": "text/x-python",
   "name": "python",
   "nbconvert_exporter": "python",
   "pygments_lexer": "ipython3",
   "version": "3.12.2"
  }
 },
 "nbformat": 4,
 "nbformat_minor": 2
}
